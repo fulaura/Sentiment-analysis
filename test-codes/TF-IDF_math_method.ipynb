{
 "cells": [
  {
   "cell_type": "code",
   "execution_count": 2,
   "metadata": {},
   "outputs": [
    {
     "data": {
      "text/plain": [
       "[['Machine',\n",
       "  'learning',\n",
       "  'is',\n",
       "  'a',\n",
       "  'subset',\n",
       "  'of',\n",
       "  'artificial',\n",
       "  'intelligence.'],\n",
       " ['Artificial',\n",
       "  'intelligence,',\n",
       "  'often',\n",
       "  'abbreviated',\n",
       "  'as',\n",
       "  'AI,',\n",
       "  'is',\n",
       "  'a',\n",
       "  'rapidly',\n",
       "  'evolving',\n",
       "  'technology.'],\n",
       " ['Data',\n",
       "  'science',\n",
       "  'is',\n",
       "  'the',\n",
       "  'practice',\n",
       "  'of',\n",
       "  'extracting',\n",
       "  'knowledge',\n",
       "  'and',\n",
       "  'insights',\n",
       "  'from',\n",
       "  'data.'],\n",
       " ['Natural',\n",
       "  'language',\n",
       "  'processing',\n",
       "  '(NLP)',\n",
       "  'is',\n",
       "  'a',\n",
       "  'subfield',\n",
       "  'of',\n",
       "  'AI',\n",
       "  'that',\n",
       "  'deals',\n",
       "  'with',\n",
       "  'human',\n",
       "  'language',\n",
       "  'understanding.'],\n",
       " ['Big',\n",
       "  'data',\n",
       "  'is',\n",
       "  'a',\n",
       "  'term',\n",
       "  'used',\n",
       "  'to',\n",
       "  'describe',\n",
       "  'large',\n",
       "  'and',\n",
       "  'complex',\n",
       "  'datasets',\n",
       "  'that',\n",
       "  'require',\n",
       "  'specialized',\n",
       "  'techniques',\n",
       "  'for',\n",
       "  'analysis.']]"
      ]
     },
     "execution_count": 2,
     "metadata": {},
     "output_type": "execute_result"
    }
   ],
   "source": [
    "import math\n",
    "\n",
    "documents = [\n",
    "    \"Machine learning is a subset of artificial intelligence.\",\n",
    "    \"Artificial intelligence, often abbreviated as AI, is a rapidly evolving technology.\",\n",
    "    \"Data science is the practice of extracting knowledge and insights from data.\",\n",
    "    \"Natural language processing (NLP) is a subfield of AI that deals with human language understanding.\",\n",
    "    \"Big data is a term used to describe large and complex datasets that require specialized techniques for analysis.\"\n",
    "]\n",
    "tokenized_documents = [document.split() for document in documents]\n"
   ]
  }
 ],
 "metadata": {
  "kernelspec": {
   "display_name": "Python 3",
   "language": "python",
   "name": "python3"
  },
  "language_info": {
   "codemirror_mode": {
    "name": "ipython",
    "version": 3
   },
   "file_extension": ".py",
   "mimetype": "text/x-python",
   "name": "python",
   "nbconvert_exporter": "python",
   "pygments_lexer": "ipython3",
   "version": "3.11.2"
  }
 },
 "nbformat": 4,
 "nbformat_minor": 2
}
