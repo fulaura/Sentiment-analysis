{
 "cells": [
  {
   "cell_type": "code",
   "execution_count": 6,
   "metadata": {},
   "outputs": [
    {
     "name": "stdout",
     "output_type": "stream",
     "text": [
      "       evil   horizon        of   problem     queen\n",
      "0  0.517856  0.000000  0.680919  0.517856  0.000000\n",
      "1  0.605349  0.000000  0.000000  0.000000  0.795961\n",
      "2  0.000000  0.795961  0.000000  0.605349  0.000000\n"
     ]
    }
   ],
   "source": [
    "import pandas as pd\n",
    "from sklearn.feature_extraction.text import TfidfVectorizer\n",
    "\n",
    "vec=TfidfVectorizer()\n",
    "text_db= ['problem of evil', 'evil queen', 'horizon problem']\n",
    "tf_idf=vec.fit_transform(text_db)\n",
    "print(pd.DataFrame(tf_idf.toarray(),columns=vec.get_feature_names_out()))"
   ]
  },
  {
   "cell_type": "code",
   "execution_count": 11,
   "metadata": {},
   "outputs": [
    {
     "name": "stdout",
     "output_type": "stream",
     "text": [
      "        are  artificial     build  intelligence        is  learning   machine   \n",
      "0  0.229416    0.229416  0.229416      0.229416  0.229416  0.458831  0.458831  \\\n",
      "\n",
      "     models        of    subset  techniques        to      used  \n",
      "0  0.229416  0.229416  0.229416    0.229416  0.229416  0.229416  \n"
     ]
    }
   ],
   "source": [
    "import pandas as pd\n",
    "from sklearn.feature_extraction.text import TfidfVectorizer\n",
    "\n",
    "vec=TfidfVectorizer()\n",
    "text_db1=['Machine learning is a subset of artificial intelligence. Machine learning techniques are used to build models.']\n",
    "tf_idf=vec.fit_transform(text_db1)\n",
    "print(pd.DataFrame(tf_idf.toarray(), columns=vec.get_feature_names_out()))"
   ]
  },
  {
   "cell_type": "code",
   "execution_count": 13,
   "metadata": {},
   "outputs": [
    {
     "name": "stdout",
     "output_type": "stream",
     "text": [
      "        are  artificial    broad     build    field  intelligence        is   \n",
      "0  0.000000    0.343851  0.00000  0.000000  0.00000      0.343851  0.343851  \\\n",
      "1  0.373801    0.000000  0.00000  0.373801  0.00000      0.000000  0.000000   \n",
      "2  0.000000    0.393511  0.51742  0.000000  0.51742      0.393511  0.393511   \n",
      "\n",
      "   learning   machine    models        of    subset  techniques        to   \n",
      "0  0.343851  0.343851  0.000000  0.452123  0.452123    0.000000  0.000000  \\\n",
      "1  0.284285  0.284285  0.373801  0.000000  0.000000    0.373801  0.373801   \n",
      "2  0.000000  0.000000  0.000000  0.000000  0.000000    0.000000  0.000000   \n",
      "\n",
      "       used  \n",
      "0  0.000000  \n",
      "1  0.373801  \n",
      "2  0.000000  \n"
     ]
    }
   ],
   "source": [
    "import pandas as pd\n",
    "from sklearn.feature_extraction.text import TfidfVectorizer\n",
    "\n",
    "vec=TfidfVectorizer()\n",
    "\n",
    "text_db=[ \"Machine learning is a subset of artificial intelligence.\",\n",
    "         \"Machine learning techniques are used to build models.\",\n",
    "         \"Artificial intelligence is a broad field.\"]\n",
    "tf_idf=vec.fit_transform(text_db)\n",
    "print(pd.DataFrame(tf_idf.toarray(), columns=vec.get_feature_names_out()))"
   ]
  },
  {
   "cell_type": "code",
   "execution_count": null,
   "metadata": {},
   "outputs": [
    {
     "name": "stdout",
     "output_type": "stream",
     "text": [
      "   abbreviated        ai  analysis       and  artificial        as       big   \n",
      "0     0.000000  0.000000  0.000000  0.219295    0.000000  0.000000  0.000000  \\\n",
      "1     0.335616  0.270773  0.000000  0.000000    0.335616  0.335616  0.000000   \n",
      "2     0.000000  0.000000  0.000000  0.205884    0.000000  0.000000  0.000000   \n",
      "3     0.000000  0.214253  0.000000  0.000000    0.000000  0.000000  0.000000   \n",
      "4     0.000000  0.000000  0.258394  0.173049    0.000000  0.000000  0.258394   \n",
      "\n",
      "   combines   complex  computer  ...  subfield  techniques  technology   \n",
      "0  0.327447  0.000000  0.327447  ...  0.000000    0.000000    0.000000  \\\n",
      "1  0.000000  0.000000  0.000000  ...  0.000000    0.000000    0.335616   \n",
      "2  0.000000  0.000000  0.000000  ...  0.000000    0.000000    0.000000   \n",
      "3  0.000000  0.000000  0.000000  ...  0.265561    0.000000    0.000000   \n",
      "4  0.000000  0.258394  0.000000  ...  0.000000    0.258394    0.000000   \n",
      "\n",
      "       term      that       the        to  understanding      used      with  \n",
      "0  0.000000  0.000000  0.000000  0.000000       0.000000  0.000000  0.000000  \n",
      "1  0.000000  0.000000  0.000000  0.000000       0.000000  0.000000  0.000000  \n",
      "2  0.000000  0.000000  0.307422  0.000000       0.000000  0.000000  0.000000  \n",
      "3  0.000000  0.214253  0.000000  0.000000       0.265561  0.000000  0.265561  \n",
      "4  0.258394  0.208470  0.000000  0.258394       0.000000  0.258394  0.000000  \n",
      "\n",
      "[5 rows x 51 columns]\n"
     ]
    }
   ],
   "source": [
    "import pandas as pd\n",
    "from sklearn.feature_extraction.text import TfidfVectorizer\n",
    "\n",
    "vec=TfidfVectorizer()\n",
    "text_db=[\"Machine learning is a fascinating field. It combines computer science and statistics.\",\n",
    "         \"Artificial intelligence, often abbreviated as AI, is a rapidly evolving technology.\",\n",
    "         \"Data science is the practice of extracting knowledge and insights from data.\",\n",
    "          \"Natural language processing (NLP) is a subfield of AI that deals with human language understanding.\",\n",
    "          \"Big data is a term used to describe large and complex datasets that require specialized techniques for analysis.\"]\n",
    "tf_idf=vec.fit_transform(text_db)\n",
    "print(pd.DataFrame(tf_idf.toarray(), columns=vec.get_feature_names_out()))"
   ]
  },
  {
   "cell_type": "code",
   "execution_count": 3,
   "metadata": {},
   "outputs": [
    {
     "name": "stdout",
     "output_type": "stream",
     "text": [
      "0.0\n"
     ]
    }
   ],
   "source": [
    "import math\n",
    "\n",
    "text_db=\"Machine learning is a subset of artificial intelligence.\"\n",
    "w=\"Machine\"\n",
    "tf_wd=1/8\n",
    "idf_w=math.log(1/1)\n",
    "tf_idf_w=tf_wd*idf_w\n",
    "print(tf_idf_w)"
   ]
  },
  {
   "cell_type": "code",
   "execution_count": 6,
   "metadata": {},
   "outputs": [
    {
     "name": "stdout",
     "output_type": "stream",
     "text": [
      "      and    check     does  extarction  feature       is       it     just   \n",
      "0  0.3849  0.19245  0.19245     0.19245  0.19245  0.19245  0.19245  0.19245  \\\n",
      "\n",
      "      lets       ok  ...  prioritization  process      see       so     test   \n",
      "0  0.19245  0.19245  ...         0.19245  0.19245  0.19245  0.19245  0.19245  \\\n",
      "\n",
      "      text     the     this       to     work  \n",
      "0  0.19245  0.3849  0.19245  0.19245  0.19245  \n",
      "\n",
      "[1 rows x 21 columns]\n"
     ]
    }
   ],
   "source": [
    "import pandas as pd\n",
    "from sklearn.feature_extraction.text import TfidfVectorizer\n",
    "\n",
    "vec=TfidfVectorizer()\n",
    "text_db=['ok this is just a text to test the feature extarction and prioritization process. So lets check does it work and see the output']\n",
    "tf_idf=vec.fit_transform(text_db)\n",
    "print(pd.DataFrame(tf_idf.toarray(), columns=vec.get_feature_names_out()))"
   ]
  },
  {
   "cell_type": "code",
   "execution_count": 7,
   "metadata": {},
   "outputs": [
    {
     "name": "stdout",
     "output_type": "stream",
     "text": [
      "   abbreviated        ai  analysis       and       are  artificial        as   \n",
      "0     0.000000  0.000000  0.000000  0.276864  0.000000    0.000000  0.000000  \\\n",
      "1     0.000000  0.000000  0.000000  0.232042  0.000000    0.000000  0.000000   \n",
      "2     0.354187  0.299152  0.000000  0.000000  0.000000    0.260104  0.354187   \n",
      "3     0.000000  0.000000  0.000000  0.201008  0.000000    0.000000  0.000000   \n",
      "4     0.000000  0.224569  0.000000  0.000000  0.000000    0.000000  0.000000   \n",
      "5     0.000000  0.000000  0.267326  0.173456  0.000000    0.000000  0.000000   \n",
      "6     0.000000  0.000000  0.000000  0.000000  0.000000    0.373015  0.000000   \n",
      "7     0.000000  0.000000  0.000000  0.000000  0.406738    0.000000  0.000000   \n",
      "8     0.000000  0.000000  0.000000  0.000000  0.000000    0.426023  0.000000   \n",
      "\n",
      "        big     broad     build  ...      test      text      that       the   \n",
      "0  0.000000  0.000000  0.000000  ...  0.213348  0.213348  0.000000  0.360394  \\\n",
      "1  0.000000  0.000000  0.000000  ...  0.000000  0.000000  0.000000  0.000000   \n",
      "2  0.000000  0.000000  0.000000  ...  0.000000  0.000000  0.000000  0.000000   \n",
      "3  0.000000  0.000000  0.000000  ...  0.000000  0.000000  0.000000  0.261653   \n",
      "4  0.000000  0.000000  0.000000  ...  0.000000  0.000000  0.224569  0.000000   \n",
      "5  0.267326  0.000000  0.000000  ...  0.000000  0.000000  0.225788  0.000000   \n",
      "6  0.000000  0.000000  0.000000  ...  0.000000  0.000000  0.000000  0.000000   \n",
      "7  0.000000  0.000000  0.406738  ...  0.000000  0.000000  0.000000  0.000000   \n",
      "8  0.000000  0.580121  0.000000  ...  0.000000  0.000000  0.000000  0.000000   \n",
      "\n",
      "       this        to  understanding      used      with      work  \n",
      "0  0.213348  0.156676       0.000000  0.000000  0.000000  0.213348  \n",
      "1  0.000000  0.000000       0.000000  0.000000  0.000000  0.000000  \n",
      "2  0.000000  0.000000       0.000000  0.000000  0.000000  0.000000  \n",
      "3  0.000000  0.000000       0.000000  0.000000  0.000000  0.000000  \n",
      "4  0.000000  0.000000       0.265883  0.000000  0.265883  0.000000  \n",
      "5  0.000000  0.196316       0.000000  0.225788  0.000000  0.000000  \n",
      "6  0.000000  0.000000       0.000000  0.000000  0.000000  0.000000  \n",
      "7  0.000000  0.298696       0.000000  0.343537  0.000000  0.000000  \n",
      "8  0.000000  0.000000       0.000000  0.000000  0.000000  0.000000  \n",
      "\n",
      "[9 rows x 72 columns]\n"
     ]
    }
   ],
   "source": [
    "import pandas as pd\n",
    "from sklearn.feature_extraction.text import TfidfVectorizer\n",
    "vector=TfidfVectorizer()\n",
    "text_db=['ok this is just a text to test the feature extarction and prioritization process. So lets check does it work and see the output',\n",
    "         \"Machine learning is a fascinating field. It combines computer science and statistics.\",\n",
    "         \"Artificial intelligence, often abbreviated as AI, is a rapidly evolving technology.\",\n",
    "         \"Data science is the practice of extracting knowledge and insights from data.\",\n",
    "         \"Natural language processing (NLP) is a subfield of AI that deals with human language understanding.\",\n",
    "         \"Big data is a term used to describe large and complex datasets that require specialized techniques for analysis.\",\n",
    "         \"Machine learning is a subset of artificial intelligence.\",\n",
    "         \"Machine learning techniques are used to build models.\",\n",
    "         \"Artificial intelligence is a broad field.\"]\n",
    "tf_idf=vec.fit_transform(text_db)\n",
    "print(pd.DataFrame(tf_idf.toarray(), columns=vec.get_feature_names_out()))"
   ]
  }
 ],
 "metadata": {
  "kernelspec": {
   "display_name": "Python 3",
   "language": "python",
   "name": "python3"
  },
  "language_info": {
   "codemirror_mode": {
    "name": "ipython",
    "version": 3
   },
   "file_extension": ".py",
   "mimetype": "text/x-python",
   "name": "python",
   "nbconvert_exporter": "python",
   "pygments_lexer": "ipython3",
   "version": "3.11.2"
  }
 },
 "nbformat": 4,
 "nbformat_minor": 2
}
